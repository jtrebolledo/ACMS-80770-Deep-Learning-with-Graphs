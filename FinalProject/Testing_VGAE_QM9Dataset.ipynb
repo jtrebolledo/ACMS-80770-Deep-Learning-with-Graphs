{
 "cells": [
  {
   "cell_type": "code",
   "execution_count": 1,
   "id": "865458b6",
   "metadata": {},
   "outputs": [
    {
     "name": "stderr",
     "output_type": "stream",
     "text": [
      "100%|██████████| 6000/6000 [00:02<00:00, 2732.93it/s]\n"
     ]
    }
   ],
   "source": [
    "from pandas.core.groupby.groupby import OutputFrameOrSeries\n",
    "\"\"\"\n",
    "ACMS 80770-03: Deep Learning with Graphs\n",
    "Instructor: Navid Shervani-Tabar\n",
    "Fall 2022\n",
    "University of Notre Dame\n",
    "Homework 2: Programming assignment\n",
    "Problem 1\n",
    "\"\"\"\n",
    "import torch\n",
    "from torch import nn\n",
    "from torch import optim\n",
    "import warnings\n",
    "import numpy as np\n",
    "import matplotlib.pyplot as plt\n",
    "%matplotlib inline\n",
    "\n",
    "warnings.simplefilter(action='ignore', category=UserWarning)\n",
    "from chainer_chemistry import datasets\n",
    "from chainer_chemistry.dataset.preprocessors.ggnn_preprocessor import GGNNPreprocessor\n",
    "\n",
    "\n",
    "\"\"\"\n",
    "    load data\n",
    "\"\"\"\n",
    "dataset, dataset_smiles = datasets.get_qm9(GGNNPreprocessor(kekulize=True), return_smiles=True,\n",
    "                                           target_index=np.random.choice(range(133000), 6000, False))\n",
    "\n",
    "V = 9\n",
    "atom_types = [6, 8, 7, 9, 1]\n",
    "\n",
    "def adj(x):\n",
    "    x = x[1]\n",
    "    adjacency = np.zeros((V, V)).astype(float)\n",
    "    adjacency[:len(x[0]), :len(x[0])] = x[0] + 2 * x[1] + 3 * x[2]\n",
    "    return torch.tensor(adjacency)\n",
    "\n",
    "\n",
    "def sig(x):\n",
    "    x = x[0]\n",
    "    atoms = np.ones((V)).astype(float)\n",
    "    atoms[:len(x)] = x\n",
    "    out = np.array([int(atom == atom_type) for atom_type in atom_types for atom in atoms]).astype(float)\n",
    "    return torch.tensor(out).reshape(5, len(atoms)).T\n",
    "\n",
    "\n",
    "def target(x):\n",
    "    x = x[2]\n",
    "    return torch.tensor(x)\n",
    "\n",
    "\n",
    "adjs = torch.stack(list(map(adj, dataset))).float()\n",
    "sigs = torch.stack(list(map(sig, dataset))).float()\n",
    "prop = torch.stack(list(map(target, dataset)))[:, 5].float()"
   ]
  },
  {
   "cell_type": "code",
   "execution_count": 2,
   "id": "36abbb0f",
   "metadata": {},
   "outputs": [],
   "source": [
    "class GCN:\n",
    "    \"\"\"\n",
    "        Graph convolutional layer\n",
    "    \"\"\"\n",
    "    def __init__(self, in_features, out_features):\n",
    "        # -- initialize weight\n",
    "        self.lin = nn.Linear(in_features,out_features)\n",
    "\n",
    "        # -- non-linearity, here we add relu in model class\n",
    "\n",
    "\n",
    "    def __call__(self, A, H):\n",
    "        # -- GCN propagation rule\n",
    "        # A: batch_size*n*n, H:batch_size*n*5\n",
    "        # H^{k} = D^{-1/2}*(A+I)*D^{-1/2}*H*W\n",
    "        # return batch_size*n*3\n",
    "        n = A.shape[-1]\n",
    "        D_negative_sqrt = torch.diag_embed(1/(A+torch.eye(n)).sum(dim=2).sqrt())\n",
    "        H = D_negative_sqrt@(A+torch.eye(n))@D_negative_sqrt@H\n",
    "        H = self.lin(H)\n",
    "        return H\n",
    "\n",
    "\n",
    "class MyModel(nn.Module):\n",
    "    \"\"\"\n",
    "        Regression  model\n",
    "    \"\"\"\n",
    "    def __init__(self):\n",
    "        super(MyModel, self).__init__()\n",
    "        # -- initialize layers\n",
    "        torch.manual_seed(10000)\n",
    "        self.conv_external   = nn.Linear(5,9) # GCN(5,9)\n",
    "        self.conv_mu         = nn.Linear(9,2)\n",
    "        self.conv_log_sigma  = nn.Linear(9,2)\n",
    "#         self.lin2 = nn.Linear(3,3)\n",
    "\n",
    "    def forward(self, A, h0):\n",
    "        n = A.shape[-1]\n",
    "        D_negative_sqrt = torch.diag_embed(1/(A+torch.eye(n)).sum(dim=2).sqrt())\n",
    "        A_norm = D_negative_sqrt@(A+torch.eye(n))@D_negative_sqrt\n",
    "\n",
    "\n",
    "        x = A_norm@h0\n",
    "        x = self.conv_external(x)\n",
    "\n",
    "\n",
    "        # output: batch_size*1\n",
    "        # x = self.conv_external(A,h0)\n",
    "        x = x.relu()\n",
    "        \n",
    "        \n",
    "        x_mu = A_norm@x\n",
    "        x_mu = self.conv_mu(x)\n",
    "        \n",
    "        x_log_sigma = A_norm@x\n",
    "        x_log_sigma = self.conv_mu(x_log_sigma)\n",
    "        \n",
    "        \n",
    "        latent_variables = x_mu  + torch.randn(9,2) * x_log_sigma.exp()\n",
    "        \n",
    "        n_graphs = latent_variables.shape[0]\n",
    "\n",
    "        latent_variables_tranpose = torch.transpose(latent_variables,1,2)\n",
    "        A_hat_reconstructed = latent_variables@latent_variables_tranpose\n",
    "\n",
    "        A_hat_reconstructed = torch.reshape(A_hat_reconstructed,(n_graphs,-1))\n",
    "\n",
    "        A_hat_reconstructed = A_hat_reconstructed.sigmoid()\n",
    "\n",
    "        return A_hat_reconstructed, x_mu, x_log_sigma"
   ]
  },
  {
   "cell_type": "code",
   "execution_count": 3,
   "id": "74242d57",
   "metadata": {},
   "outputs": [
    {
     "data": {
      "text/plain": [
       "torch.Size([6000, 81])"
      ]
     },
     "execution_count": 3,
     "metadata": {},
     "output_type": "execute_result"
    }
   ],
   "source": [
    "norm = adjs.shape[0] * adjs.shape[0] / float((adjs.shape[0] * adjs.shape[0] - adjs.sum()) * 2)\n",
    "# pos_weight2 = float(adjs.shape[0] * adjs.shape[0] - adjs.sum()) / adjs.sum()\n",
    "\n",
    "\n",
    "from utils import *\n",
    "\n",
    "n_graphs = adjs.shape[0]\n",
    "\n",
    "Adj_hat = Get_AdjHat(adjs)\n",
    "Adj_hat_reshape = torch.reshape(Adj_hat,(n_graphs,-1))\n",
    "\n",
    "Adj_hat_reshape.shape"
   ]
  },
  {
   "cell_type": "code",
   "execution_count": null,
   "id": "8e1778e2",
   "metadata": {},
   "outputs": [],
   "source": []
  },
  {
   "cell_type": "code",
   "execution_count": 4,
   "id": "59ee65e7",
   "metadata": {},
   "outputs": [
    {
     "data": {
      "text/plain": [
       "Text(0, 0.5, 'MSE Loss')"
      ]
     },
     "execution_count": 4,
     "metadata": {},
     "output_type": "execute_result"
    },
    {
     "data": {
      "image/png": "[encoded data removed]",
      "text/plain": [
       "<Figure size 720x360 with 1 Axes>"
      ]
     },
     "metadata": {
      "needs_background": "light"
     },
     "output_type": "display_data"
    }
   ],
   "source": [
    "\"\"\"\n",
    "    Train\n",
    "\"\"\"\n",
    "# -- Initialize the model, loss function, and the optimizer\n",
    "model = MyModel()\n",
    "# MyLoss = nn.KLDivLoss()\n",
    "# MyLoss = nn.MSELoss()\n",
    "# MyLoss = nn.BCEWithLogitsLoss()\n",
    "MyLoss = nn.BCELoss()\n",
    "\n",
    "MyOptimizer = optim.Adam(model.parameters(), lr=1e-4)\n",
    "loss_epoch = []\n",
    "\n",
    "n_epochs = 200\n",
    "batch_size = 100\n",
    "# -- update parameters\n",
    "for epoch in range(n_epochs):\n",
    "    cum_loss = 0\n",
    "    # 50 iterations needed for 5000 samples\n",
    "    for i in range(50):\n",
    "\n",
    "        # -- predict\n",
    "        MyOptimizer.zero_grad()\n",
    "        pred, mean, logstd  = model(adjs[i*batch_size:(i+1)*batch_size], sigs[i*batch_size:(i+1)*batch_size])\n",
    "        labels = Adj_hat_reshape[i*batch_size:(i+1)*batch_size]\n",
    "\n",
    "\n",
    "        loss = MyLoss(pred, labels)\n",
    "\n",
    "        # # # -- loss\n",
    "        # loss = norm*MyLoss(model(adjs[i*batch_size:(i+1)*batch_size], sigs[i*batch_size:(i+1)*batch_size])[0],labels)\n",
    "        \n",
    "        # kl_divergence = 0.5/ pred.size(0) * (1 + 2*logstd - mean**2 - torch.exp(logstd)**2).sum(1).mean()\n",
    "        # loss -= kl_divergence\n",
    "        \n",
    "        # -- optimize\n",
    "        loss.backward()\n",
    "        MyOptimizer.step()\n",
    "        \n",
    "        cum_loss += loss.item()\n",
    "    \n",
    "    loss_epoch.append(cum_loss/50)\n",
    "    \n",
    "\n",
    "\n",
    "# -- plot loss\n",
    "X = np.arange(1, n_epochs+1)\n",
    "fig,ax = plt.subplots(figsize=(10,5))\n",
    "ax.plot(X, loss_epoch,'r--', lw=2)\n",
    "ax.tick_params(axis='both', which='major', labelsize=12)\n",
    "ax.set_xlabel('epoch', fontsize=15)\n",
    "ax.set_ylabel('MSE Loss', fontsize=15)"
   ]
  },
  {
   "cell_type": "code",
   "execution_count": 18,
   "id": "ae34ab65",
   "metadata": {},
   "outputs": [
    {
     "name": "stdout",
     "output_type": "stream",
     "text": [
      "Loss function value in the validation set =  0.6891\n"
     ]
    }
   ],
   "source": [
    "# evaluate\n",
    "pred, mean, logstd = model(adjs[5000:], sigs[5000:])\n",
    "labels = Adj_hat_reshape[5000:]\n",
    "\n",
    "loss = MyLoss(pred, labels)\n",
    "\n",
    "print(\"Loss function value in the validation set = \", np.round(loss.item(), 4))"
   ]
  }
 ],
 "metadata": {
  "kernelspec": {
   "display_name": "Python 3 (ipykernel)",
   "language": "python",
   "name": "python3"
  },
  "language_info": {
   "codemirror_mode": {
    "name": "ipython",
    "version": 3
   },
   "file_extension": ".py",
   "mimetype": "text/x-python",
   "name": "python",
   "nbconvert_exporter": "python",
   "pygments_lexer": "ipython3",
   "version": "3.10.6"
  },
  "vscode": {
   "interpreter": {
    "hash": "e23c30ff19bbb3e6f44b6f54d3e2bc5e5e9bb9e9e0742a2c3cdfd1a21545f643"
   }
  }
 },
 "nbformat": 4,
 "nbformat_minor": 5
}
